{
  "nbformat": 4,
  "nbformat_minor": 0,
  "metadata": {
    "colab": {
      "name": "visualize_bbox_on_video.ipynb",
      "provenance": [],
      "collapsed_sections": []
    },
    "kernelspec": {
      "name": "python3",
      "display_name": "Python 3"
    },
    "language_info": {
      "name": "python"
    }
  },
  "cells": [
        {
      "cell_type": "markdown",
      "metadata": {
        "id": "view-in-github",
        "colab_type": "text"
      },
      "source": [
        "<a href=\"https://colab.research.google.com/github/Ben93kie/SeaDronesSee/blob/main/MOT/visualize_bbox_on_video.ipynb\" target=\"_parent\"><img src=\"https://colab.research.google.com/assets/colab-badge.svg\" alt=\"Open In Colab\"/></a>"
      ]
    },
    {
      "cell_type": "markdown",
      "source": [
        "# Visualize BoundingBoxes on a video\n",
        "\n",
        "The script will take images and the annotations in COCO-Format to visualize the bounding boxes on these images and create a video\n",
        "\n",
        "Lets say, we have the images below and the corresponding annotation given and want to visualize the Bounding Boxes on this images and output a video\n",
        "\n"
      ],
      "metadata": {
        "id": "cdw1F2SA19Rs"
      }
    },
    {
      "cell_type": "markdown",
      "source": [
        "## Get the images and the annotations\n",
        "first run the code to download the images"
      ],
      "metadata": {
        "id": "Xxb7wnPfnZCf"
      }
    },
    {
      "cell_type": "code",
      "source": [
        "import requests\n",
        "import zipfile\n",
        "\n",
        "url = \"https://cloud.cs.uni-tuebingen.de/index.php/s/PdKfdJFAFmLYWAz/download\"\n",
        "r = requests.get(url)\n",
        "with open(\"/content/sample_data/imgs\", 'wb') as f:\n",
        "  f.write(r.content)\n",
        "\n",
        "with zipfile.ZipFile(\"sample_data/imgs\", 'r') as myzip:\n",
        "    myzip.extractall()"
      ],
      "metadata": {
        "id": "_BqMdhCJndH3"
      },
      "execution_count": 20,
      "outputs": []
    },
    {
      "cell_type": "markdown",
      "source": [
        "now download the annotations"
      ],
      "metadata": {
        "id": "VhtfSKAenel-"
      }
    },
    {
      "cell_type": "code",
      "source": [
        "import requests\n",
        "\n",
        "url = \"https://cloud.cs.uni-tuebingen.de/index.php/s/pNqRDqtLjXbEqDm/download?path=%2Fannotations&files=instances_val.json&downloadStartSecret=o3mqezb18tr\"\n",
        "r = requests.get(url)\n",
        "with open(\"/content/sample_data/annotation.json\", 'wb') as f:\n",
        "  f.write(r.content)"
      ],
      "metadata": {
        "id": "F3RQKhSVnggr"
      },
      "execution_count": 21,
      "outputs": []
    },
    {
      "cell_type": "markdown",
      "source": [
        "## Available Images\n",
        "are the images are saved in /content/Sample_images"
      ],
      "metadata": {
        "id": "CEUGtk1cn05M"
      }
    },
    {
      "cell_type": "markdown",
      "source": [
        "## Import required packages\n",
        "\n",
        "first we import all the needed packages"
      ],
      "metadata": {
        "id": "I68p-25q2WAS"
      }
    },
    {
      "cell_type": "code",
      "source": [
        "import argparse\n",
        "import json\n",
        "\n",
        "import cv2\n",
        "import time\n",
        "import os"
      ],
      "metadata": {
        "id": "UiGVms3S2Yy_"
      },
      "execution_count": 22,
      "outputs": []
    },
    {
      "cell_type": "markdown",
      "source": [
        "## Color assignment\n",
        "for better visualization of each category we assign each category a different color (excluding category nr 7 - ignored)\n",
        "1. <font color='00FF00'>swimmer</font>\n",
        "2. <font color='FF0000'>floater</font>\n",
        "3. <font color='33FFFF'>boat</font>\n",
        "4. <font color='FFFF00'>swimmer on boat</font>\n",
        "5. <font color='FF66FF'>floater on boat</font>\n",
        "6. <font color='FF9933'>life jacket</font>\n",
        "7. ignored\n",
        "\n",
        "***Attention: The color values are not RGB (Red, Green, Blue) but BGR (Blue, Green, Red)***\n"
      ],
      "metadata": {
        "id": "9OCnw2US2a6J"
      }
    },
    {
      "cell_type": "code",
      "source": [
        "colors = {1: (0,255,0),\n",
        "          2: (0,0,255),\n",
        "          3: (255,255,51),\n",
        "          4: (0,255,255),\n",
        "          5: (255, 102, 255),\n",
        "          6: (51, 153, 255)}"
      ],
      "metadata": {
        "id": "TUSjjm8H2nTW"
      },
      "execution_count": 23,
      "outputs": []
    },
    {
      "cell_type": "markdown",
      "source": [
        "## Reading the annotation file\n",
        "we open the annotation json file, which is a dictonary"
      ],
      "metadata": {
        "id": "2Thtefcs8PHz"
      }
    },
    {
      "cell_type": "code",
      "source": [
        "with open(\"sample_data/annotation.json\") as f:\n",
        "  data = json.load(f)"
      ],
      "metadata": {
        "id": "HnH0_Ys-8qHf"
      },
      "execution_count": 24,
      "outputs": []
    },
    {
      "cell_type": "markdown",
      "source": [
        "## Video Settings\n",
        "\n",
        "the width and height of the video will be determined automatically (size of the input image)\n",
        "\n",
        "The used Videocodex will produce an .avi video\n",
        "\n",
        "The fps (Frames per Second) is set to 2 for demonstration purposes"
      ],
      "metadata": {
        "id": "xdXxR7HXhlz8"
      }
    },
    {
      "cell_type": "code",
      "source": [
        "width = data['images'][0]['width']\n",
        "height = data['images'][0]['height']\n",
        "shape = width, height\n",
        "fourcc = cv2.VideoWriter_fourcc(*'DIVX')\n",
        "fps = 2\n",
        "out = cv2.VideoWriter(\"/content/output.avi\", fourcc, fps, shape)"
      ],
      "metadata": {
        "id": "SXDKjXKFCmk3"
      },
      "execution_count": 30,
      "outputs": []
    },
    {
      "cell_type": "markdown",
      "source": [
        "## Drawing the Bounding Boxes\n",
        "we go through all the images and draw the bounding boxes, which are defined in the annotation file, on the images.\n",
        "\n",
        "In the annotation file the bounding boxes are saved as an array with length 4.\n",
        "\n",
        "| index | meaning|\n",
        "| --- | --- |\n",
        "| 0 | x coordinate of the top left corner of the bounding box\n",
        "| 1 | y coordinate of the top left corner of the bounding box\n",
        "| 2 | width of the bounding box\n",
        "| 3 | height of the bounding box\n",
        "\n",
        "with these information we can then calculate the lower right point of the bounding box by adding width to the x coordinate and adding the height to the y coordinate. This is needed because cv2.rectangle() is using the upper left corner and lower right corner to define the rectangle to draw.\n",
        "\n",
        "With the category_id the color for the Bounding Box is determined.\n",
        "\n",
        "After all Bounding Boxes, which belong to one image, are drawn on the image the image will be added to the output video.\n",
        "\n",
        "After all the images are processed, the video will be saved in the workspace"
      ],
      "metadata": {
        "id": "T42FJ9SZCmPW"
      }
    },
    {
      "cell_type": "code",
      "source": [
        "for image in data['images']:\n",
        "  if not os.path.isfile(\"/content/Sample_images/\" + image['file_name']):\n",
        "    continue\n",
        "  img = cv2.imread(\"/content/Sample_images/\" + image['file_name'])\n",
        "  for annotation in data['annotations']:\n",
        "    if annotation['image_id'] == image['id']:\n",
        "      topLeftX = annotation['bbox'][0]\n",
        "      topLeftY = annotation['bbox'][1]\n",
        "      width = annotation['bbox'][2]\n",
        "      height = annotation['bbox'][3]\n",
        "      cv2.rectangle(img, (topLeftX, topLeftY), (topLeftX + width, topLeftY + height), colors[annotation['category_id']], 3)\n",
        "  img = cv2.resize(img, shape)\n",
        "  out.write(img)\n",
        "out.release()"
      ],
      "metadata": {
        "id": "LQJFRkk187C7"
      },
      "execution_count": 31,
      "outputs": []
    },
    {
      "cell_type": "markdown",
      "source": [
        "The video is now saved in your workspace /content/output.avi"
      ],
      "metadata": {
        "id": "-p67s9nDDPiK"
      }
    }
  ]
}
