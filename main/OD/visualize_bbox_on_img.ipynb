{
  "cells": [
    {
      "cell_type": "markdown",
      "metadata": {
        "id": "view-in-github",
        "colab_type": "text"
      },
      "source": [
        "<a href=\"https://colab.research.google.com/github/Ben93kie/SeaDronesSee/blob/main/main/OD/visualize_bbox_on_img.ipynb\" target=\"_parent\"><img src=\"https://colab.research.google.com/assets/colab-badge.svg\" alt=\"Open In Colab\"/></a>"
      ]
    },
    {
      "cell_type": "markdown",
      "metadata": {
        "id": "cdw1F2SA19Rs"
      },
      "source": [
        "# Visualize BoundingBoxes on given Images\n",
        "\n",
        "The script will take images and the annotations in COCO-Format to visualize the bounding boxes on these images"
      ]
    },
    {
      "cell_type": "markdown",
      "metadata": {
        "id": "IvQ0QaPwP2yH"
      },
      "source": [
        "## Get the images and the annotations\n",
        "first run the code to download the images"
      ]
    },
    {
      "cell_type": "code",
      "execution_count": null,
      "metadata": {
        "id": "lbHVEgZ3spn-"
      },
      "outputs": [],
      "source": [
        "import requests\n",
        "import zipfile\n",
        "\n",
        "url = \"https://cloud.cs.uni-tuebingen.de/index.php/s/PdKfdJFAFmLYWAz/download\"\n",
        "r = requests.get(url)\n",
        "with open(\"/content/sample_data/imgs\", 'wb') as f:\n",
        "  f.write(r.content)\n",
        "\n",
        "with zipfile.ZipFile(\"sample_data/imgs\", 'r') as myzip:\n",
        "    myzip.extractall()"
      ]
    },
    {
      "cell_type": "markdown",
      "metadata": {
        "id": "6UmPpinvUoVB"
      },
      "source": [
        "now download the annotations"
      ]
    },
    {
      "cell_type": "code",
      "execution_count": null,
      "metadata": {
        "id": "f0uDFt-PUrCK"
      },
      "outputs": [],
      "source": [
        "import requests\n",
        "\n",
        "url = \"https://cloud.cs.uni-tuebingen.de/index.php/s/pNqRDqtLjXbEqDm/download?path=%2Fannotations&files=instances_val.json&downloadStartSecret=o3mqezb18tr\"\n",
        "r = requests.get(url)\n",
        "with open(\"/content/sample_data/annotation.json\", 'wb') as f:\n",
        "  f.write(r.content)"
      ]
    },
    {
      "cell_type": "markdown",
      "metadata": {
        "id": "xqoJBckuVgLu"
      },
      "source": [
        "and create the output folder"
      ]
    },
    {
      "cell_type": "code",
      "execution_count": null,
      "metadata": {
        "id": "nxMsrzhlViYo"
      },
      "outputs": [],
      "source": [
        "import os\n",
        "os.mkdir(\"/content/output\")"
      ]
    },
    {
      "cell_type": "markdown",
      "metadata": {
        "id": "uRPnArWkP-Ck"
      },
      "source": [
        "## Available Images\n",
        "let us see one of the images we downloaded"
      ]
    },
    {
      "cell_type": "code",
      "source": [
        "from IPython.display import Image\n",
        "\n",
        "Image(\"/content/Sample_images/2435.png\", width=\"1024\", height=\"768\")"
      ],
      "metadata": {
        "id": "y0fT-rNvjWiv"
      },
      "execution_count": null,
      "outputs": []
    },
    {
      "cell_type": "markdown",
      "source": [
        "All the other input images are saved in /content/Sample_images"
      ],
      "metadata": {
        "id": "6tyDq0ZGnFDV"
      }
    },
    {
      "cell_type": "markdown",
      "metadata": {
        "id": "I68p-25q2WAS"
      },
      "source": [
        "## Import required packages\n",
        "first we import all the needed packages"
      ]
    },
    {
      "cell_type": "code",
      "execution_count": null,
      "metadata": {
        "id": "UiGVms3S2Yy_"
      },
      "outputs": [],
      "source": [
        "import argparse\n",
        "import json\n",
        "\n",
        "import cv2\n",
        "import time\n",
        "import os"
      ]
    },
    {
      "cell_type": "markdown",
      "metadata": {
        "id": "9OCnw2US2a6J"
      },
      "source": [
        "## Color assignment\n",
        "for better visualization of each category we assign each category a different color (excluding category nr 7 - ignored)\n",
        "1. <font color='00FF00'>swimmer</font>\n",
        "2. <font color='FF0000'>floater</font>\n",
        "3. <font color='33FFFF'>boat</font>\n",
        "4. <font color='FFFF00'>swimmer on boat</font>\n",
        "5. <font color='FF66FF'>floater on boat</font>\n",
        "6. <font color='FF9933'>life jacket</font>\n",
        "7. ignored\n",
        "\n",
        "***Attention: The color values are not RGB (Red, Green, Blue) but BGR (Blue, Green, Red)***\n"
      ]
    },
    {
      "cell_type": "code",
      "execution_count": null,
      "metadata": {
        "id": "TUSjjm8H2nTW"
      },
      "outputs": [],
      "source": [
        "colors = {1: (0,255,0),\n",
        "          2: (0,0,255),\n",
        "          3: (255,255,51),\n",
        "          4: (0,255,255),\n",
        "          5: (255, 102, 255),\n",
        "          6: (51, 153, 255)}"
      ]
    },
    {
      "cell_type": "markdown",
      "metadata": {
        "id": "2Thtefcs8PHz"
      },
      "source": [
        "## Reading the annotation file\n",
        "we open the annotation json file, which is a dictonary"
      ]
    },
    {
      "cell_type": "code",
      "execution_count": null,
      "metadata": {
        "id": "HnH0_Ys-8qHf"
      },
      "outputs": [],
      "source": [
        "with open(\"sample_data/annotation.json\") as f:\n",
        "    data = json.load(f)"
      ]
    },
    {
      "cell_type": "markdown",
      "metadata": {
        "id": "oD3RFNVV86wS"
      },
      "source": [
        "## Drawing the Bounding Boxes\n",
        "we go through all the images and draw the bounding boxes, which are defined in the annotation file, on the images.\n",
        "\n",
        "In the annotation file the bounding boxes are saved as an array with length 4.\n",
        "\n",
        "| index | meaning|\n",
        "| --- | --- |\n",
        "| 0 | x coordinate of the top left corner of the bounding box\n",
        "| 1 | y coordinate of the top left corner of the bounding box\n",
        "| 2 | width of the bounding box\n",
        "| 3 | height of the bounding box\n",
        "\n",
        "with these information we can then calculate the lower right point of the bounding box by adding width to the x coordinate and adding the height to the y coordinate. This is needed because cv2.rectangle() is using the upper left corner and lower right corner to define the rectangle to draw.\n",
        "\n",
        "With the category_id the color for the Bounding Box is determined.\n",
        "\n",
        "After all Bounding Boxes, which belong to one image, are drawn on the image the image will be saved in the output folder with the same name as the input image name"
      ]
    },
    {
      "cell_type": "code",
      "execution_count": null,
      "metadata": {
        "id": "LQJFRkk187C7"
      },
      "outputs": [],
      "source": [
        "for image in data['images']:\n",
        "  if not os.path.isfile(\"/content/Sample_images/\" + image['file_name']):\n",
        "    continue\n",
        "  img = cv2.imread(\"/content/Sample_images/\" + image['file_name'])\n",
        "  for annotation in data['annotations']:\n",
        "    if annotation['image_id'] == image['id']:\n",
        "      topLeftX = annotation['bbox'][0]\n",
        "      topLeftY = annotation['bbox'][1]\n",
        "      width = annotation['bbox'][2]\n",
        "      height = annotation['bbox'][3]\n",
        "      cv2.rectangle(img, (topLeftX, topLeftY), (topLeftX + width, topLeftY + height), colors[annotation['category_id']], 3)\n",
        "  cv2.imwrite('output/' + image['file_name'],img)"
      ]
    },
    {
      "cell_type": "markdown",
      "source": [
        "## Output\n",
        "now let see the bounding boxes on the image we saw above"
      ],
      "metadata": {
        "id": "kW8OEZSemtGT"
      }
    },
    {
      "cell_type": "code",
      "source": [
        "from IPython.display import Image\n",
        "\n",
        "Image(\"/content/output/2435.png\", width=\"1024\", height=\"768\")"
      ],
      "metadata": {
        "id": "0GKvEf25mk6a"
      },
      "execution_count": null,
      "outputs": []
    },
    {
      "cell_type": "markdown",
      "source": [
        "all the other output pictures are located in the folder /content/output"
      ],
      "metadata": {
        "id": "nimJibgKm1xE"
      }
    }
  ],
  "metadata": {
    "accelerator": "GPU",
    "colab": {
      "collapsed_sections": [],
      "name": "visualize_bbox_on_img.ipynb",
      "provenance": [],
      "include_colab_link": true
    },
    "gpuClass": "standard",
    "kernelspec": {
      "display_name": "Python 3",
      "name": "python3"
    },
    "language_info": {
      "name": "python"
    }
  },
  "nbformat": 4,
  "nbformat_minor": 0
}