{
 "cells": [
     {
      "cell_type": "markdown",
      "metadata": {
        "id": "view-in-github",
        "colab_type": "text"
      },
      "source": [
        "<a href=\"https://colab.research.google.com/github/Ben93kie/SeaDronesSee/blob/main/OD/OD_Tut/Yolov7/ObjectDetectionWithYoloV7.ipynb\" target=\"_parent\"><img src=\"https://colab.research.google.com/assets/colab-badge.svg\" alt=\"Open In Colab\"/></a>"
      ]
    },
  {
   "cell_type": "markdown",
   "id": "3cd9ec5c",
   "metadata": {},
   "source": [
    "# Object Detection on <a href=\"https://seadronessee.cs.uni-tuebingen.de/dataset\">SeaDronesSee Object Detection Dataset</a>\n",
    "###    <a href=\"https://github.com/WongKinYiu/yolov7\"> With Yolo v7</a>"
   ]
  },
  {
   "cell_type": "markdown",
   "id": "101821db",
   "metadata": {},
   "source": [
    "## Recommended:\n",
    "\n",
    "Download and install <a href=\"https://anaconda.org/anaconda/conda=\">conda</a>\n",
    "\n",
    "\n",
    "Create a new conda environment"
   ]
  },
  {
   "cell_type": "code",
   "execution_count": null,
   "id": "036ae1c7",
   "metadata": {},
   "outputs": [],
   "source": [
    "conda create -n yolov7 python=3.9"
   ]
  },
  {
   "cell_type": "markdown",
   "id": "be4b53b0",
   "metadata": {},
   "source": [
    "confirm with <strong>y</strong> when asked to proceed\n",
    "\n",
    "Activate the newly created environment"
   ]
  },
  {
   "cell_type": "code",
   "execution_count": null,
   "id": "8c366edd",
   "metadata": {},
   "outputs": [],
   "source": [
    "conda activate yolov7"
   ]
  },
  {
   "cell_type": "markdown",
   "id": "0e5e23cb",
   "metadata": {},
   "source": [
    "* * *\n",
    "## Step 1 \"Getting Yolo v7\":\n",
    "download <a href=\"https://github.com/WongKinYiu/yolov7\">yolo v7</a>\n",
    "\n",
    "    Click on \"Code\" then \"Download ZIP\""
   ]
  },
  {
   "cell_type": "markdown",
   "id": "d3838c45",
   "metadata": {},
   "source": [
    "* * *\n",
    "## Step 2 \"Installing all requirements\":\n",
    "Extract the yolov7-main.zip to a prefered directory\n",
    "\n",
    "Open Terminal inside <strong>yolov7-main</strong> Folder and enter:"
   ]
  },
  {
   "cell_type": "code",
   "execution_count": null,
   "id": "7aa09d3c",
   "metadata": {},
   "outputs": [],
   "source": [
    "pip install -r requirements.txt"
   ]
  },
  {
   "cell_type": "markdown",
   "id": "374030fd",
   "metadata": {},
   "source": [
    "this will download all the required packages"
   ]
  },
  {
   "cell_type": "markdown",
   "id": "9e2b497f",
   "metadata": {},
   "source": [
    "#### Cuda\n",
    "If you own a GPU with cuda and want to utilize it, you need to install cuda from https://pytorch.org/get-started/previous-versions/ or enter the following in your terminal"
   ]
  },
  {
   "cell_type": "code",
   "execution_count": null,
   "id": "e418f6b5",
   "metadata": {},
   "outputs": [],
   "source": [
    "pip install torch==1.11.0+cu113 torchvision==0.12.0+cu113 torchaudio==0.11.0 --extra-index-url https://download.pytorch.org/whl/cu113"
   ]
  },
  {
   "cell_type": "markdown",
   "id": "d0f7f772",
   "metadata": {},
   "source": [
    "* * *\n",
    "## Step 3 \"Choosing a model\":\n",
    "Open the git repository and on the right hand side click on <a href=\"https://github.com/WongKinYiu/yolov7/releases\">Releases</a>\n",
    "\n",
    "For this tutorial we are using <strong>yolov7-training.pt</strong>, but you can choose any other .pt file\n",
    "\n",
    "Place the downloaded model inside <strong>yolov7-main</strong> Folder"
   ]
  },
  {
   "cell_type": "markdown",
   "id": "d9ae9261",
   "metadata": {},
   "source": [
    "* * *\n",
    "## Step 4 \"Test your Setup\"\n",
    "now everything should work as excepted.\n",
    "\n",
    "If you want to test your setup, you need to download ***yolov7.pt*** from <a href=\"https://github.com/WongKinYiu/yolov7/releases\">Releases</a> and run the following command"
   ]
  },
  {
   "cell_type": "code",
   "execution_count": null,
   "id": "bb0eb29a",
   "metadata": {},
   "outputs": [],
   "source": [
    "python detect.py --weights yolov7.pt --conf 0.25 --img-size 640 --source inference/images/horses.jpg"
   ]
  },
  {
   "cell_type": "markdown",
   "id": "bd1ee50a",
   "metadata": {},
   "source": [
    "If everything is installed correctly you should see under <strong>yolov7-main/runs/detect/exp</strong> a picture with BoundingBoxes, Label and Confidence"
   ]
  },
  {
   "cell_type": "markdown",
   "id": "76cb4d98",
   "metadata": {},
   "source": [
    "* * *\n",
    "## Step 5 \"Use the SeaDronesSee Dataset\"\n",
    "Create three folders <strong>val</strong>, <strong>train</strong> and <strong>test</strong> inside ***yolov7-main/data***, all three should contain the folders <strong>images</strong> and <strong>labels</strong>\n",
    "\n",
    "Place the val images from the SeaDronesSee Object Detection Dataset in ***val/images***, the train images in ***train/images*** and the test images in ***test/images***\n",
    "And place the annotations folder, which contains <strong>instances_val.json</strong>, <strong>instances_train.json</strong> and <strong>instances_test.json</strong>, inside ***yolov7-main/data***\n",
    "\n",
    "\n",
    "#### you can either:\n",
    "Go to ***yolov7-main/data*** and duplicate <strong>coco.yaml</strong>.<br>\n",
    "Open the duplicated file and<br>\n",
    "1. delete Line 1 to 5\n",
    "2. change the train path to ***./data/train***\n",
    "3. change the val path to ***./data/val***\n",
    "4. change the test path to ***./data/test***\n",
    "5. change the number of classes (nc) to 7\n",
    "6. change the class names to the following array<br>\n",
    "    [ 'ignored', 'swimmer', 'boat', 'jetski', 'life_saving_appliances', 'buoy']\n",
    "    \n",
    "#### or you can use the finished file:\n",
    "Place the <strong>SeaDronesSee.yaml</strong> inside ***yolov7-main/data***\n",
    "<br>\n",
    "<br>\n",
    "<br>\n",
    "The directory structure of data should be like\n",
    "```\n",
    "data\n",
    "|-- coco.yaml\n",
    "|-- hyp.scratch.custom.yaml\n",
    "|-- hyp.scratch.p5.yaml\n",
    "|-- hyp.scratch.p6.yaml\n",
    "|-- hyp.scratch.tiny.yaml\n",
    "|-- SeaDronesSee.yaml\n",
    "|-- train\n",
    "|   |-- images\n",
    "|   `-- labels\n",
    "|-- val\n",
    "|   |-- images\n",
    "|   `-- labels\n",
    "|-- test\n",
    "|   |-- images\n",
    "|   `-- labels\n",
    "`-- annotations\n",
    "    |-- instances_val.json\n",
    "    |-- instances_train.json\n",
    "    `-- instances_test.json\n",
    "```\n",
    "\n",
    "After that, place <strong>yolov7_SeaDronesSee.yaml</strong> inside ***yolov7-main/cfg/training***\n",
    "\n",
    "<em>Hint:</em>\n",
    "\n",
    "If you want to use another model, e.g. yolov7-tiny, you need to duplicate the right yaml file, in case of yolov7-tiny you need to duplicate yolov7-tiny.yaml and change the <strong>nc</strong> (line 2) from 80 to 7, because we only have 7 classes"
   ]
  },
  {
   "cell_type": "markdown",
   "id": "c7248c77",
   "metadata": {},
   "source": [
    "* * *\n",
    "## Step 6 \"Convert Coco json to Yolo format\"\n",
    "The annotation json files must be converted for yolo v7\n",
    "\n",
    "Place the ***ConvertCocoJsonToYoloFormat.py*** inside yolov7-main folder and run it with this arguments"
   ]
  },
  {
   "cell_type": "code",
   "execution_count": null,
   "id": "f6b8b8f7",
   "metadata": {},
   "outputs": [],
   "source": [
    "python ConvertCocoJsonToYoloFormat.py --annotations \"data/annotations\" --labels \"data\" --val --train --test"
   ]
  },
  {
   "cell_type": "markdown",
   "id": "3c4bd00f",
   "metadata": {},
   "source": [
    "* * *\n",
    "## Step 7 \"Train the Model\"\n",
    "You are all set to train your model.\n",
    "\n",
    "To train your model use the following command"
   ]
  },
  {
   "cell_type": "code",
   "execution_count": null,
   "id": "451a0c16",
   "metadata": {},
   "outputs": [],
   "source": [
    "python train.py --workers 4 --device 0 --batch-size 8 --epochs 8 --img 640 640 --data data/SeaDronesSee.yaml --hyp data/hyp.scratch.custom.yaml --cfg cfg/training/yolov7_SeaDronesSee.yaml --name yolov7-SeaDronesSee --weights yolov7_training.pt"
   ]
  },
  {
   "cell_type": "markdown",
   "id": "d9af6860",
   "metadata": {},
   "source": [
    "Your trained model can be found under ***yolov7-main/runs/train/yolov7-SeaDronesSee/weights***\n",
    "\n",
    "\n",
    "***important:***\n",
    "if you use another model then yolo v7 you might need to change the --img parameter.\n",
    "Check the <a href=\"https://github.com/WongKinYiu/yolov7\">git repository</a> under \"Performance\" which Test Size your model of choice needs."
   ]
  },
  {
   "cell_type": "markdown",
   "id": "2371785f",
   "metadata": {},
   "source": [
    "* * *\n",
    "## Step 8 \"Test the Model\"\n",
    "After training your best model is located at ***yolov7-main/runs/train/yolov7-SeaDronesSee/weights***\n",
    "\n",
    "You can now test your model, after placing the <strong>detect_SeaDronesSeeDataset</strong> inside ***yolov7-main***\n",
    "and running the following command"
   ]
  },
  {
   "cell_type": "code",
   "execution_count": null,
   "id": "55baa142",
   "metadata": {},
   "outputs": [],
   "source": [
    "python detect_SeaDronesSeeDatasetV2.py --weights runs/train/yolov7-SeaDronesSee/weights/best.pt --conf 0.25 --img-size 640 --source data/test/images --save-txt --save-conf"
   ]
  },
  {
   "cell_type": "markdown",
   "id": "2296e3ee",
   "metadata": {},
   "source": [
    "Head over to ***yolov7-main/runs/detect/exp2*** to see the result.json, which you can upload to the SeaDronesSee Website"
   ]
  }
 ],
 "metadata": {
  "kernelspec": {
   "display_name": "Python (yolov7tutorial)",
   "language": "python",
   "name": "yolov7tutorial"
  },
  "language_info": {
   "codemirror_mode": {
    "name": "ipython",
    "version": 3
   },
   "file_extension": ".py",
   "mimetype": "text/x-python",
   "name": "python",
   "nbconvert_exporter": "python",
   "pygments_lexer": "ipython3",
   "version": "3.9.12"
  }
 },
 "nbformat": 4,
 "nbformat_minor": 5
}
